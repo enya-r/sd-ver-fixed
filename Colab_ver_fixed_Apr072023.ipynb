{
  "nbformat": 4,
  "nbformat_minor": 0,
  "metadata": {
    "colab": {
      "provenance": [],
      "authorship_tag": "ABX9TyNBnALuvpAhMdUicnfucdA7",
      "include_colab_link": true
    },
    "kernelspec": {
      "name": "python3",
      "display_name": "Python 3"
    },
    "language_info": {
      "name": "python"
    },
    "accelerator": "GPU",
    "gpuClass": "standard"
  },
  "cells": [
    {
      "cell_type": "markdown",
      "metadata": {
        "id": "view-in-github",
        "colab_type": "text"
      },
      "source": [
        "<a href=\"https://colab.research.google.com/github/enya-r/sd-ver-fixed/blob/main/Colab_ver_fixed_Apr072023.ipynb\" target=\"_parent\"><img src=\"https://colab.research.google.com/assets/colab-badge.svg\" alt=\"Open In Colab\"/></a>"
      ]
    },
    {
      "cell_type": "markdown",
      "source": [
        "**2023/04/12時点のColab上で動いたバージョンで固定した**"
      ],
      "metadata": {
        "id": "0UhuvzlDlESK"
      }
    },
    {
      "cell_type": "code",
      "execution_count": null,
      "metadata": {
        "cellView": "form",
        "id": "UyWuWWwMe02N"
      },
      "outputs": [],
      "source": [
        "#@title 1. AUTOMATIC1111版インストール、LyCORIS拡張機能インストール、Loraフォルダ作成まで\n",
        "#@markdown webUIは2023/02/23バージョン、LyCORISは2023/04/07バージョンで固定。\n",
        "\n",
        "#@markdown モデルのデフォルトはAOM3A1Bにしているが変更してOK\n",
        "\n",
        "!nvidia-smi\n",
        "from google.colab import drive\n",
        "drive.mount('/content/drive')\n",
        "!git clone https://github.com/AUTOMATIC1111/stable-diffusion-webui\n",
        "%cd /content/stable-diffusion-webui\n",
        "!git checkout -b Feb2023 0cc0ee1bcb4c24a8c9715f66cede06601bfc00c8\n",
        "!wget https://huggingface.co/WarriorMama777/OrangeMixs/resolve/main/Models/AbyssOrangeMix3/AOM3A1B_orangemixs.safetensors -O /content/stable-diffusion-webui/models/Stable-diffusion/AOM3A1B.safetensors\n",
        "!wget https://huggingface.co/hakurei/waifu-diffusion-v1-4/resolve/main/vae/kl-f8-anime2.ckpt -O /content/stable-diffusion-webui/models/VAE/kl-f8-anime2.ckpt\n",
        "!wget https://huggingface.co/datasets/gsdf/EasyNegative/resolve/main/EasyNegative.safetensors -O /content/stable-diffusion-webui/embeddings/EasyNegative.safetensors\n",
        "%cd /content/stable-diffusion-webui/extensions/\n",
        "!git clone https://github.com/KohakuBlueleaf/a1111-sd-webui-locon\n",
        "%cd /content/stable-diffusion-webui/extensions/a1111-sd-webui-locon\n",
        "!git checkout -b Apr0723 4ee3054f8a7e82d76d1c42fad4f716a792e0b792\n",
        "!mkdir /content/stable-diffusion-webui/models/Lora\n",
        "!pip install torch==1.13.1+cu117 torchvision==0.14.1+cu117 torchtext==0.14.1 torchaudio==0.13.1 torchdata==0.5.1 --extra-index-url https://download.pytorch.org/whl/cu117"
      ]
    },
    {
      "cell_type": "markdown",
      "source": [
        "**2. Loraを手動配置する**"
      ],
      "metadata": {
        "id": "7yUeaQQojEiO"
      }
    },
    {
      "cell_type": "code",
      "source": [
        "#@title 3. web UIを起動\n",
        "%cd /content/stable-diffusion-webui\n",
        "!COMMANDLINE_ARGS=\"--share --xformers --enable-insecure-extension-access --gradio-debug\" REQS_FILE=\"requirements.txt\" python launch.py"
      ],
      "metadata": {
        "cellView": "form",
        "id": "sADDxAeMe4Fy"
      },
      "execution_count": null,
      "outputs": []
    }
  ]
}